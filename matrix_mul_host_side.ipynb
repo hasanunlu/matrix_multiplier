{
 "cells": [
  {
   "cell_type": "code",
   "execution_count": 27,
   "id": "0b645088",
   "metadata": {},
   "outputs": [],
   "source": [
    "import serial\n",
    "import numpy as np\n",
    "import time"
   ]
  },
  {
   "cell_type": "code",
   "execution_count": 28,
   "id": "fc29fdea",
   "metadata": {},
   "outputs": [
    {
     "name": "stdout",
     "output_type": "stream",
     "text": [
      "scale, shift:  252 17  norm:  0.001928974155927864\n",
      "N:  [  0 255] 256\n",
      "M:  [  0 255] 256\n"
     ]
    }
   ],
   "source": [
    "UINT8_MAX = 255\n",
    "UNT8_MAX = 127\n",
    "\n",
    "row_cnt = 15 # N_ROW_CACHED in verilog\n",
    "\n",
    "M = 256\n",
    "N = 256 # max is limited by block ram 1024 currently -> Only 30 usable 30*4kbit/8 = 15.36 kbyte = 15 * 1024byte\n",
    "K = 225 # should be multiple of row_cnt\n",
    "\n",
    "assert not(K % row_cnt)\n",
    "\n",
    "m1 = np.random.randn(M, N)\n",
    "m2 = np.random.randn(N, K)\n",
    "\n",
    "m3 = np.matmul(m1, m2)\n",
    "\n",
    "m1_sf = UNT8_MAX / max(abs(m1.min()), abs(m1.max()))\n",
    "m2_sf = UNT8_MAX / max(abs(m2.min()), abs(m2.max()))\n",
    "m3_sf = UNT8_MAX / max(abs(m3.min()), abs(m3.max()))\n",
    "\n",
    "m1_q = (np.round(m1_sf * m1)).astype(np.int8)\n",
    "m2_q = (np.round(m2_sf * m2)).astype(np.int8)\n",
    "m3_q = (np.round(m3_sf * m3)).astype(np.int8)\n",
    "\n",
    "norm_factor = m3_sf / (m1_sf * m2_sf)\n",
    "p = np.floor(np.log2(255) - np.log2(norm_factor))\n",
    "\n",
    "scale = (np.floor(norm_factor * 2**p)).astype(np.uint8)\n",
    "shift = p.astype(np.uint8)\n",
    "scale_shift = np.array([scale, shift], dtype=np.uint8)\n",
    "print(\"scale, shift: \", scale, shift, \" norm: \", norm_factor)\n",
    "\n",
    "length_N = np.array([((N - 1) // 256), (N - 1) & 0x00FF], dtype=np.uint8)\n",
    "length_M = np.array([((M - 1) // 256), (M - 1) & 0x00FF], dtype=np.uint8)\n",
    "print('N: ', length_N, N)\n",
    "print('M: ', length_M, M)\n",
    "\n",
    "m3_device = np.zeros((M, K), dtype=np.int8)"
   ]
  },
  {
   "cell_type": "code",
   "execution_count": 29,
   "id": "933ff026",
   "metadata": {},
   "outputs": [
    {
     "name": "stdout",
     "output_type": "stream",
     "text": [
      "MxN NxK: 2.08961820602417  seconds\n",
      "14.140765004254668 MOPS (int8)\n",
      "max_diff:  1.0\n",
      "SNR:  30.67455291748047\n"
     ]
    }
   ],
   "source": [
    "s = serial.Serial(\"/dev/ttyACM3\", write_timeout=3)\n",
    "\n",
    "\n",
    "start = time.time()\n",
    "for i in range(0, K, row_cnt):\n",
    "    data = np.concatenate((length_N, length_M, scale_shift,\n",
    "                           np.transpose(m2_q[:, i:(i+row_cnt)]).flatten()))\n",
    "\n",
    "    data_b = bytes(data.astype(np.uint8))\n",
    "    s.write(data_b)\n",
    "    for j in range(M):\n",
    "        data_b = bytes(m1_q[j,:].astype(np.uint8))\n",
    "        s.write(data_b)\n",
    "        data_back = s.read(row_cnt)\n",
    "        o_column = np.array(list(data_back)).astype(np.int8)\n",
    "        m3_device[j, i:(i+row_cnt)] = o_column\n",
    "\n",
    "end = time.time()\n",
    "print(\"MxN NxK:\", end - start, ' seconds')\n",
    "print((2*N*M*K + M*K)/ (end-start) / 1e6, \"MOPS (int8)\" )\n",
    "\n",
    "s.close()   \n",
    "\n",
    "diff = (m3_device - m3_q).flatten().astype(np.single)\n",
    "print('max_diff: ', diff.max())\n",
    "m_orig = m3_q.flatten().astype(np.single)\n",
    "\n",
    "print(\"SNR: \", 10 * np.log10(np.sum(m_orig * m_orig) / np.sum(diff * diff)))"
   ]
  },
  {
   "cell_type": "code",
   "execution_count": null,
   "id": "b5fd6e85",
   "metadata": {},
   "outputs": [],
   "source": [
    "#512 512 256 6.7"
   ]
  }
 ],
 "metadata": {
  "kernelspec": {
   "display_name": "Python 3 (ipykernel)",
   "language": "python",
   "name": "python3"
  },
  "language_info": {
   "codemirror_mode": {
    "name": "ipython",
    "version": 3
   },
   "file_extension": ".py",
   "mimetype": "text/x-python",
   "name": "python",
   "nbconvert_exporter": "python",
   "pygments_lexer": "ipython3",
   "version": "3.10.12"
  }
 },
 "nbformat": 4,
 "nbformat_minor": 5
}
